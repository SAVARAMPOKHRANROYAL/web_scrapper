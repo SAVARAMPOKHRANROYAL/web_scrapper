{
 "cells": [
  {
   "cell_type": "code",
   "execution_count": 1,
   "id": "5c00eb02",
   "metadata": {},
   "outputs": [
    {
     "name": "stdout",
     "output_type": "stream",
     "text": [
      "{'rule_7k0n': ['SAMSUNG Galaxy F13 (Waterfall Blue, 64 GB)', 'SAMSUNG Galaxy F13 (Nightsky Green, 64 GB)', 'SAMSUNG Galaxy F13 (Sunrise Copper, 64 GB)', 'SAMSUNG Galaxy F04 (Jade Purple, 64 GB)', 'POCO C51 (Royal Blue, 64 GB)', 'POCO C55 (Forest Green, 128 GB)', 'APPLE iPhone 13 (Starlight, 128 GB)', 'POCO C55 (Power Black, 128 GB)', 'APPLE iPhone 13 (Midnight, 128 GB)', 'POCO C51 (Power Black, 64 GB)', 'APPLE iPhone 13 (Green, 128 GB)', 'APPLE iPhone 13 (Pink, 128 GB)', 'realme C53 (Champion Gold, 64 GB)', 'Infinix SMART 7 (Azure Blue, 64 GB)', 'realme C53 (Champion Black, 64 GB)', 'POCO C50 (Royal Blue, 32 GB)', 'OPPO A17 (Lake Blue, 64 GB)', 'Infinix Smart 7 HD (Jade White, 64 GB)', 'Infinix Smart 7 HD (Ink Black, 64 GB)', 'SAMSUNG Galaxy F04 (Opal Green, 64 GB)', 'Infinix Smart 7 HD (Silk Blue, 64 GB)', 'Infinix Smart 7 HD (Green Apple, 64 GB)', 'Infinix SMART 7 (Emerald Green, 64 GB)', 'POCO C50 (Country Green, 32 GB)'], 'rule_n256': ['SAMSUNG Galaxy F13 (Waterfall Blue, 64 GB)', 'SAMSUNG Galaxy F13 (Nightsky Green, 64 GB)', 'SAMSUNG Galaxy F13 (Sunrise Copper, 64 GB)', 'SAMSUNG Galaxy F04 (Jade Purple, 64 GB)', 'POCO C51 (Royal Blue, 64 GB)', 'POCO C55 (Forest Green, 128 GB)', 'APPLE iPhone 13 (Starlight, 128 GB)', 'POCO C55 (Power Black, 128 GB)', 'APPLE iPhone 13 (Midnight, 128 GB)', 'POCO C51 (Power Black, 64 GB)', 'APPLE iPhone 13 (Green, 128 GB)', 'APPLE iPhone 13 (Pink, 128 GB)', 'realme C53 (Champion Gold, 64 GB)', 'Infinix SMART 7 (Azure Blue, 64 GB)', 'realme C53 (Champion Black, 64 GB)', 'POCO C50 (Royal Blue, 32 GB)', 'OPPO A17 (Lake Blue, 64 GB)', 'Infinix Smart 7 HD (Jade White, 64 GB)', 'Infinix Smart 7 HD (Ink Black, 64 GB)', 'SAMSUNG Galaxy F04 (Opal Green, 64 GB)', 'Infinix Smart 7 HD (Silk Blue, 64 GB)', 'Infinix Smart 7 HD (Green Apple, 64 GB)', 'Infinix SMART 7 (Emerald Green, 64 GB)', 'POCO C50 (Country Green, 32 GB)'], 'rule_waxl': ['₹9,599', '₹9,599', '₹9,599', '₹7,099', '₹6,499', '₹8,499', '₹58,499', '₹8,499', '₹58,499', '₹6,499', '₹58,499', '₹58,499', '₹10,999', '₹6,999', '₹10,999', '₹5,499', '₹12,499', '₹5,999', '₹5,999', '₹7,099', '₹5,999', '₹5,999', '₹6,999', '₹5,499'], 'rule_kit0': ['₹9,599', '₹9,599', '₹9,599', '₹7,099', '₹6,499', '₹8,499', '₹58,499', '₹8,499', '₹58,499', '₹6,499', '₹58,499', '₹58,499', '₹10,999', '₹6,999', '₹10,999', '₹5,499', '₹12,499', '₹5,999', '₹5,999', '₹7,099', '₹5,999', '₹5,999', '₹6,999', '₹5,499'], 'rule_qdeb': ['₹9,599', '₹9,599', '₹9,599', '₹7,099', '₹6,499', '₹8,499', '₹58,499', '₹8,499', '₹58,499', '₹6,499', '₹58,499', '₹58,499', '₹10,999', '₹6,999', '₹10,999', '₹5,499', '₹12,499', '₹5,999', '₹5,999', '₹7,099', '₹5,999', '₹5,999', '₹6,999', '₹5,499'], 'rule_ldgg': ['₹9,599', '₹9,599', '₹9,599', '₹7,099', '₹6,499', '₹8,499', '₹58,499', '₹8,499', '₹58,499', '₹6,499', '₹58,499', '₹58,499', '₹10,999', '₹6,999', '₹10,999', '₹5,499', '₹12,499', '₹5,999', '₹5,999', '₹7,099', '₹5,999', '₹5,999', '₹6,999', '₹5,499'], 'rule_pgug': ['4.2', '4.2', '4.3', '4.2', '4.2'], 'rule_swqu': ['4.3', '4.3', '4.3', '4.2', '4.2', '4.2', '4.7', '4.2', '4.7', '4.2', '4.7', '4.7', '4.6', '4.3', '4.6', '4.2', '4.3', '4.3', '4.3', '4.2', '4.3', '4.3', '4.3', '4.2'], 'rule_5r12': ['4.3', '4.3', '4.3', '4.2', '4.2', '4.2', '4.7', '4.2', '4.7', '4.2', '4.7', '4.7', '4.6', '4.3', '4.6', '4.2', '4.3', '4.3', '4.3', '4.2', '4.3', '4.3', '4.3', '4.2'], 'rule_dmj3': ['4.3', '4.3', '4.3', '4.2', '4.2', '4.2', '4.7', '4.2', '4.7', '4.2', '4.7', '4.7', '4.6', '4.3', '4.6', '4.2', '4.3', '4.3', '4.3', '4.2', '4.3', '4.3', '4.3', '4.2'], 'rule_ipge': ['4.3', '4.3', '4.3', '4.2', '4.2', '4.2', '4.7', '4.2', '4.7', '4.2', '4.7', '4.7', '4.6', '4.3', '4.6', '4.2', '4.3', '4.3', '4.3', '4.2', '4.3', '4.3', '4.3', '4.2'], 'rule_fmb7': ['4.3', '4.3', '4.3', '4.2', '4.2', '4.2', '4.7', '4.2', '4.7', '4.2', '4.7', '4.7', '4.6', '4.3', '4.6', '4.2', '4.3', '4.3', '4.3', '4.2', '4.3', '4.3', '4.3', '4.2'], 'rule_5udp': ['4.3', '4.3', '4.3', '4.2', '4.2', '4.2', '4.7', '4.2', '4.7', '4.2', '4.7', '4.7', '4.6', '4.3', '4.6', '4.2', '4.3', '4.3', '4.3', '4.2', '4.3', '4.3', '4.3', '4.2'], 'rule_kede': ['4.3', '4.3', '4.3', '4.2', '4.2', '4.2', '4.7', '4.2', '4.7', '4.2', '4.7', '4.7', '4.6', '4.3', '4.6', '4.2', '4.3', '4.3', '4.3', '4.2', '4.3', '4.3', '4.3', '4.2'], 'rule_no3h': ['4.3', '4.3', '4.3', '4.2', '4.2', '4.2', '4.7', '4.2', '4.7', '4.2', '4.7', '4.7', '4.6', '4.3', '4.6', '4.2', '4.3', '4.3', '4.3', '4.2', '4.3', '4.3', '4.3', '4.2'], 'rule_mbef': ['4.3', '4.3', '4.3', '4.2', '4.2', '4.2', '4.7', '4.2', '4.7', '4.2', '4.7', '4.7', '4.6', '4.3', '4.6', '4.2', '4.3', '4.3', '4.3', '4.2', '4.3', '4.3', '4.3', '4.2'], 'rule_uxbb': ['4.3', '4.3', '4.3', '4.2', '4.2', '4.2', '4.7', '4.2', '4.7', '4.2', '4.7', '4.7', '4.6', '4.3', '4.6', '4.2', '4.3', '4.3', '4.3', '4.2', '4.3', '4.3', '4.3', '4.2'], 'rule_mw66': ['https://rukminim2.flixcart.com/image/312/312/xif0q/mobile/0/8/4/-original-imagfhu75eupxyft.jpeg?q=70', 'https://rukminim2.flixcart.com/image/312/312/xif0q/mobile/a/i/v/-original-imagfhu6bdzhnmkz.jpeg?q=70', 'https://rukminim2.flixcart.com/image/312/312/xif0q/mobile/x/x/s/-original-imagfhu6dcpdnqkh.jpeg?q=70', 'https://rukminim2.flixcart.com/image/312/312/xif0q/mobile/7/p/9/-original-imaghgbyypzkzvud.jpeg?q=70', 'https://rukminim2.flixcart.com/image/312/312/xif0q/mobile/6/v/0/c51-mzb0dxkin-poco-original-imagzdpycgrcdc8z.jpeg?q=70', 'https://rukminim2.flixcart.com/image/312/312/xif0q/mobile/a/6/f/-original-imagnb6nvnqz7hqq.jpeg?q=70', 'https://rukminim2.flixcart.com/image/312/312/ktketu80/mobile/6/n/d/iphone-13-mlpg3hn-a-apple-original-imag6vpyghayhhrh.jpeg?q=70', 'https://rukminim2.flixcart.com/image/312/312/xif0q/mobile/b/y/g/-original-imagnfzybft7wzmp.jpeg?q=70', 'https://rukminim2.flixcart.com/image/312/312/ktketu80/mobile/s/l/c/iphone-13-mlpf3hn-a-apple-original-imag6vzz5qvejz8z.jpeg?q=70', 'https://rukminim2.flixcart.com/image/312/312/xif0q/mobile/o/t/a/c51-mzb0e6din-poco-original-imagzdzzraqzsrzc.jpeg?q=70', 'https://rukminim2.flixcart.com/image/312/312/l0igvww0/mobile/r/q/m/-original-imagca5ajerqpfjy.jpeg?q=70', 'https://rukminim2.flixcart.com/image/312/312/ktketu80/mobile/8/z/w/iphone-13-mlph3hn-a-apple-original-imag6vzzhrxgazsg.jpeg?q=70', 'https://rukminim2.flixcart.com/image/312/312/xif0q/mobile/h/h/d/-original-imags487gaqqhcea.jpeg?q=70', 'https://rukminim2.flixcart.com/image/312/312/xif0q/mobile/u/c/u/-original-imagnanh2yvpc4zx.jpeg?q=70', 'https://rukminim2.flixcart.com/image/312/312/xif0q/mobile/5/q/6/-original-imags487ftf3g2s7.jpeg?q=70', 'https://rukminim2.flixcart.com/image/312/312/xif0q/mobile/t/a/x/-original-imaghmtch6qfmfxg.jpeg?q=70', 'https://rukminim2.flixcart.com/image/312/312/xif0q/mobile/h/h/f/-original-imagnfqybfcdzeye.jpeg?q=70', 'https://rukminim2.flixcart.com/image/312/312/xif0q/mobile/p/z/x/-original-imagp279xdfvkzxh.jpeg?q=70', 'https://rukminim2.flixcart.com/image/312/312/xif0q/mobile/s/v/q/-original-imagp279xqv69rjq.jpeg?q=70', 'https://rukminim2.flixcart.com/image/312/312/xif0q/mobile/w/d/o/-original-imaghgbyhy6banxv.jpeg?q=70', 'https://rukminim2.flixcart.com/image/312/312/xif0q/mobile/e/s/o/-original-imagp2794bmhdrhf.jpeg?q=70', 'https://rukminim2.flixcart.com/image/312/312/xif0q/mobile/a/o/v/-original-imagp27avqpgejaf.jpeg?q=70', 'https://rukminim2.flixcart.com/image/312/312/xif0q/mobile/2/n/m/-original-imagna3rjqn8vqxb.jpeg?q=70', 'https://rukminim2.flixcart.com/image/312/312/xif0q/mobile/3/l/x/-original-imaghmtcmxwgypsk.jpeg?q=70']}\n"
     ]
    }
   ],
   "source": [
    "from autoscraper import AutoScraper\n",
    "\n",
    "url=\"https://www.flipkart.com/search?q=mobiles\"\n",
    "wanted_list=[\"SAMSUNG Galaxy F13 (Waterfall Blue, 64 GB)\",\"₹58,499\",\"4.3\",\"https://rukminim2.flixcart.com/image/312/312/xif0q/mobile/0/8/4/-original-imagfhu75eupxyft.jpeg?q=70\"]\n",
    "\n",
    "scraper=AutoScraper()\n",
    "\n",
    "result=scraper.build(url,wanted_list)\n",
    "data=scraper.get_result_similar(url,grouped=True)\n",
    "print(data)"
   ]
  },
  {
   "cell_type": "code",
   "execution_count": 2,
   "id": "63e1e03d",
   "metadata": {},
   "outputs": [],
   "source": [
    "scraper.save('flipkart_sea')"
   ]
  },
  {
   "cell_type": "code",
   "execution_count": 8,
   "id": "a9909d28",
   "metadata": {},
   "outputs": [
    {
     "name": "stdout",
     "output_type": "stream",
     "text": [
      "{'Title': ['Acer Nitro 5 (2023) Ryzen 5 Hexa Core 7535HS - (16 GB/512 GB SSD/Windows 11 Home/4 GB Graphics/NVIDIA ...', 'Acer One Core i3 11th Gen - (8 GB/256 GB SSD/Windows 11 Home) One 14 Z8-415 Thin and Light Laptop', 'Acer One Core i3 11th Gen - (8 GB/512 GB SSD/Windows 11 Home) Z8-415 Thin and Light Laptop', 'Acer Extensa (2023) Core i3 - (8 GB/256 GB SSD/Windows 11 Home) EX215-33 Notebook', 'Acer Aspire Core i3 12th Gen - (8 GB/512 GB SSD/Windows 11 Home) A315-59 Notebook', 'Acer Extensa 15 Non-Gaming Ryzen 3 Quad Core 7320U - (8 GB/512 GB SSD/Windows 11 Home) EX215-23 Thin a...', 'Acer Nitro 5 (2023) Ryzen 7 Octa Core 7735HS - (16 GB/512 GB SSD/Windows 11 Home/4 GB Graphics/NVIDIA ...', 'Acer Extensa Core i3 11th Gen - (8 GB/256 GB SSD/Windows 11 Home) EX215-54 Notebook', 'Acer Extensa Core i3 11th Gen - (8 GB/256 GB SSD/Windows 11 Home) EX 215-54 Thin and Light Laptop', 'Acer Aspire 7 (2023) Core i5 12th Gen - (16 GB/512 GB SSD/Windows 11 Home/4 GB Graphics/NVIDIA GeForce...', 'Acer I Series 80 cm (32 inch) HD Ready LED Smart Android TV with Android 11, 1.5GB RAM (2022 Model)', 'Acer Advanced I Series 127 cm (50 inch) Ultra HD (4K) LED Smart Google TV with Dolby Vision-Atmos, 36W...', 'Acer I Series 127 cm (50 inch) Ultra HD (4K) LED Smart Android TV with Android 11, 30W Dolby Audio, ME...', 'Acer I Series 109 cm (43 inch) Ultra HD (4K) LED Smart Android TV with Android 11, 30W Dolby Audio, ME...', 'Acer 21.5 inch Full HD VA Panel with VGA, HDMI, Ergonomic Stand, 2X2W Inbuilt Speakers, ZeroFrame Desi...', 'Acer Nitro 5 Core i5 12th Gen - (16 GB/512 GB SSD/Windows 11 Home/4 GB Graphics/NVIDIA GeForce RTX 305...', 'Acer Aspire 5 15 Core i5 13th Gen - (16 GB/512 GB SSD/Windows 11 Home) A515-58M Thin and Light Laptop', 'Acer Aspire 7 (2023) Core i5 12th Gen - (16 GB/512 GB SSD/Windows 11 Home/4 GB Graphics/NVIDIA GeForce...', 'Acer Aspire 3 (2023) Intel 8 cores/8 Threads Core i3 - (8 GB/512 GB SSD/Windows 11 Home) A315-510P Thi...', 'Acer Aspire 7 (2023) Core i5 12th Gen - (8 GB/512 GB SSD/Windows 11 Home/4 GB Graphics/NVIDIA GeForce ...', 'Acer Extensa 15 Non-Gaming Ryzen 3 Quad Core 7320U - (8 GB/256 GB SSD/Windows 11 Home) EX215-23 Thin a...', 'Acer Swift Go Intel EVO Core i5 13th Gen - (16 GB/512 GB SSD/Windows 11 Home) SFG14-71-58UB Thin and L...', 'Acer Aspire 5 Core i3 12th Gen - (8 GB/512 GB SSD/Windows 11 Home) A515-57 Thin and Light Laptop', 'Acer Extensa (2023) Ryzen 5 Quad Core 7520U - (8 GB/512 GB SSD/Windows 11 Home) EX215-23 Notebook'], 'Price': ['₹76,990', '₹27,990', '₹28,990', '₹30,990', '₹36,990', '₹31,990', '₹82,750', '₹34,990', '₹32,990', '₹60,990', '₹10,499', '₹27,999', '₹26,999', '₹21,999', '₹5,899', '₹73,990', '₹58,990', '₹59,990', '₹34,990', '₹49,990', '₹29,990', '₹72,990', '₹40,990', '₹39,990'], 'Stars': ['4.4', '4.1', '4.1', '4.2', '4.2', '4.1', '4.8', '4.3', '4.2', '4.3', '4.3', '4.3', '4.3', '4.2', '4.3', '3.7', '3.8', '4.1', '4.1', '4.4', '3.9', '4.2'], 'Images': ['https://rukminim2.flixcart.com/image/312/312/xif0q/computer/c/m/m/an515-47-gaming-laptop-acer-original-imagzuardhu6zwdd.jpeg?q=70', 'https://rukminim2.flixcart.com/image/312/312/xif0q/computer/w/u/0/-original-imagqyfdvgcwc54x.jpeg?q=70', 'https://rukminim2.flixcart.com/image/312/312/xif0q/computer/w/u/0/-original-imagqyfdvgcwc54x.jpeg?q=70', 'https://rukminim2.flixcart.com/image/312/312/xif0q/computer/7/o/r/-original-imagnc38zedzfnw6.jpeg?q=70', 'https://rukminim2.flixcart.com/image/312/312/xif0q/computer/g/v/h/-original-imagqbudxbf9djaz.jpeg?q=70', 'https://rukminim2.flixcart.com/image/312/312/xif0q/computer/y/l/p/-original-imagqmqjv5cyvbup.jpeg?q=70', 'https://rukminim2.flixcart.com/image/312/312/xif0q/computer/c/m/m/an515-47-gaming-laptop-acer-original-imagzuardhu6zwdd.jpeg?q=70', 'https://rukminim2.flixcart.com/image/312/312/xif0q/computer/j/y/l/-original-imagnpcezv5dfdew.jpeg?q=70', 'https://rukminim2.flixcart.com/image/312/312/xif0q/computer/j/y/l/-original-imagnpcezv5dfdew.jpeg?q=70', 'https://rukminim2.flixcart.com/image/312/312/xif0q/computer/h/c/a/-original-imagrufzwykqnzyp.jpeg?q=70', 'https://rukminim2.flixcart.com/image/312/312/xif0q/television/2/3/k/-original-imagkcdaszup3fac.jpeg?q=70', 'https://rukminim2.flixcart.com/image/312/312/xif0q/television/j/a/b/-original-imagqh76xktupkkg.jpeg?q=70', 'https://rukminim2.flixcart.com/image/312/312/xif0q/television/s/q/g/-original-imagkcda23esghdh.jpeg?q=70', 'https://rukminim2.flixcart.com/image/312/312/xif0q/television/c/4/u/-original-imagkcdag59gr4dj.jpeg?q=70', 'https://rukminim2.flixcart.com/image/312/312/xif0q/monitor/s/g/u/-original-imagzrf84gyqeste.jpeg?q=70', 'https://rukminim2.flixcart.com/image/312/312/l1mh7rk0/computer/u/r/m/an515-58-gaming-laptop-acer-original-imagd5zzqqpngwmz.jpeg?q=70', 'https://rukminim2.flixcart.com/image/312/312/xif0q/computer/w/t/v/-original-imagqbudyzfmtqqw.jpeg?q=70', 'https://rukminim2.flixcart.com/image/312/312/xif0q/computer/n/6/k/-original-imagrufzpr5qsygf.jpeg?q=70', 'https://rukminim2.flixcart.com/image/312/312/xif0q/computer/c/o/l/a315-510p-thin-and-light-laptop-acer-original-imagqjhzuc9sjh6p.jpeg?q=70', 'https://rukminim2.flixcart.com/image/312/312/xif0q/computer/k/c/x/-original-imagqf3ahw9bfjn9.jpeg?q=70', 'https://rukminim2.flixcart.com/image/312/312/xif0q/computer/y/l/p/-original-imagqmqjv5cyvbup.jpeg?q=70', 'https://rukminim2.flixcart.com/image/312/312/xif0q/computer/9/q/p/-original-imagpxfgezmz24xh.jpeg?q=70', 'https://rukminim2.flixcart.com/image/312/312/xif0q/computer/b/d/w/-original-imagzsctya67mjys.jpeg?q=70', 'https://rukminim2.flixcart.com/image/312/312/xif0q/computer/y/l/p/-original-imagqmqjv5cyvbup.jpeg?q=70']}\n"
     ]
    }
   ],
   "source": [
    "scraper.load('flipkart_search')\n",
    "data=scraper.get_result_similar(\"https://www.flipkart.com/search?q=acer\",group_by_alias=True)\n",
    "print(data)"
   ]
  },
  {
   "cell_type": "code",
   "execution_count": 4,
   "id": "565d9463",
   "metadata": {},
   "outputs": [
    {
     "name": "stdout",
     "output_type": "stream",
     "text": [
      "0\n"
     ]
    }
   ],
   "source": [
    "print(len(list(data.values())[0]))"
   ]
  },
  {
   "cell_type": "code",
   "execution_count": null,
   "id": "d4ecccf2",
   "metadata": {},
   "outputs": [],
   "source": []
  }
 ],
 "metadata": {
  "kernelspec": {
   "display_name": "Python 3 (ipykernel)",
   "language": "python",
   "name": "python3"
  },
  "language_info": {
   "codemirror_mode": {
    "name": "ipython",
    "version": 3
   },
   "file_extension": ".py",
   "mimetype": "text/x-python",
   "name": "python",
   "nbconvert_exporter": "python",
   "pygments_lexer": "ipython3",
   "version": "3.9.13"
  }
 },
 "nbformat": 4,
 "nbformat_minor": 5
}
