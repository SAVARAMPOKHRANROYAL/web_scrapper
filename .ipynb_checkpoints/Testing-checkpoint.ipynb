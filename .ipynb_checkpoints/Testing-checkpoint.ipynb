{
 "cells": [
  {
   "cell_type": "code",
   "execution_count": 1,
   "id": "5c00eb02",
   "metadata": {},
   "outputs": [
    {
     "name": "stdout",
     "output_type": "stream",
     "text": [
      "{'rule_0t1q': ['SAMSUNG Galaxy F13 (Waterfall Blue, 64 GB)', 'SAMSUNG Galaxy F13 (Nightsky Green, 64 GB)', 'SAMSUNG Galaxy F13 (Sunrise Copper, 64 GB)', 'SAMSUNG Galaxy F04 (Jade Purple, 64 GB)', 'POCO C51 (Royal Blue, 64 GB)', 'APPLE iPhone 13 (Starlight, 128 GB)', 'POCO C55 (Forest Green, 128 GB)', 'POCO C55 (Power Black, 128 GB)', 'POCO C51 (Power Black, 64 GB)', 'APPLE iPhone 13 (Midnight, 128 GB)', 'APPLE iPhone 13 (Green, 128 GB)', 'realme C53 (Champion Gold, 64 GB)', 'APPLE iPhone 13 (Pink, 128 GB)', 'Infinix SMART 7 (Azure Blue, 64 GB)', 'realme C53 (Champion Black, 64 GB)', 'POCO C50 (Royal Blue, 32 GB)', 'OPPO A17 (Lake Blue, 64 GB)', 'Infinix Smart 7 HD (Ink Black, 64 GB)', 'Infinix Smart 7 HD (Jade White, 64 GB)', 'Infinix Smart 7 HD (Silk Blue, 64 GB)', 'Infinix Smart 7 HD (Green Apple, 64 GB)', 'SAMSUNG Galaxy F04 (Opal Green, 64 GB)', 'Infinix SMART 7 (Emerald Green, 64 GB)', 'POCO C50 (Country Green, 32 GB)'], 'rule_pak3': ['SAMSUNG Galaxy F13 (Waterfall Blue, 64 GB)', 'SAMSUNG Galaxy F13 (Nightsky Green, 64 GB)', 'SAMSUNG Galaxy F13 (Sunrise Copper, 64 GB)', 'SAMSUNG Galaxy F04 (Jade Purple, 64 GB)', 'POCO C51 (Royal Blue, 64 GB)', 'APPLE iPhone 13 (Starlight, 128 GB)', 'POCO C55 (Forest Green, 128 GB)', 'POCO C55 (Power Black, 128 GB)', 'POCO C51 (Power Black, 64 GB)', 'APPLE iPhone 13 (Midnight, 128 GB)', 'APPLE iPhone 13 (Green, 128 GB)', 'realme C53 (Champion Gold, 64 GB)', 'APPLE iPhone 13 (Pink, 128 GB)', 'Infinix SMART 7 (Azure Blue, 64 GB)', 'realme C53 (Champion Black, 64 GB)', 'POCO C50 (Royal Blue, 32 GB)', 'OPPO A17 (Lake Blue, 64 GB)', 'Infinix Smart 7 HD (Ink Black, 64 GB)', 'Infinix Smart 7 HD (Jade White, 64 GB)', 'Infinix Smart 7 HD (Silk Blue, 64 GB)', 'Infinix Smart 7 HD (Green Apple, 64 GB)', 'SAMSUNG Galaxy F04 (Opal Green, 64 GB)', 'Infinix SMART 7 (Emerald Green, 64 GB)', 'POCO C50 (Country Green, 32 GB)'], 'rule_kteu': ['₹9,599', '₹9,599', '₹9,599', '₹7,099', '₹6,499', '₹58,499', '₹8,499', '₹8,499', '₹6,499', '₹58,499', '₹58,499', '₹10,999', '₹58,499', '₹6,999', '₹10,999', '₹5,499', '₹12,499', '₹5,999', '₹5,999', '₹5,999', '₹5,999', '₹7,099', '₹6,999', '₹5,499'], 'rule_pwxz': ['₹9,599', '₹9,599', '₹9,599', '₹7,099', '₹6,499', '₹58,499', '₹8,499', '₹8,499', '₹6,499', '₹58,499', '₹58,499', '₹10,999', '₹58,499', '₹6,999', '₹10,999', '₹5,499', '₹12,499', '₹5,999', '₹5,999', '₹5,999', '₹5,999', '₹7,099', '₹6,999', '₹5,499'], 'rule_kt4s': ['₹9,599', '₹9,599', '₹9,599', '₹7,099', '₹6,499', '₹58,499', '₹8,499', '₹8,499', '₹6,499', '₹58,499', '₹58,499', '₹10,999', '₹58,499', '₹6,999', '₹10,999', '₹5,499', '₹12,499', '₹5,999', '₹5,999', '₹5,999', '₹5,999', '₹7,099', '₹6,999', '₹5,499'], 'rule_x6pf': ['₹9,599', '₹9,599', '₹9,599', '₹7,099', '₹6,499', '₹58,499', '₹8,499', '₹8,499', '₹6,499', '₹58,499', '₹58,499', '₹10,999', '₹58,499', '₹6,999', '₹10,999', '₹5,499', '₹12,499', '₹5,999', '₹5,999', '₹5,999', '₹5,999', '₹7,099', '₹6,999', '₹5,499'], 'rule_70nj': ['4.2', '4.2', '4.3', '4.2', '4.2'], 'rule_1j8b': ['4.3', '4.3', '4.3', '4.2', '4.2', '4.7', '4.2', '4.2', '4.2', '4.7', '4.7', '4.6', '4.7', '4.3', '4.6', '4.2', '4.3', '4.3', '4.3', '4.3', '4.3', '4.2', '4.3', '4.2'], 'rule_a7b2': ['4.3', '4.3', '4.3', '4.2', '4.2', '4.7', '4.2', '4.2', '4.2', '4.7', '4.7', '4.6', '4.7', '4.3', '4.6', '4.2', '4.3', '4.3', '4.3', '4.3', '4.3', '4.2', '4.3', '4.2'], 'rule_yo8u': ['4.3', '4.3', '4.3', '4.2', '4.2', '4.7', '4.2', '4.2', '4.2', '4.7', '4.7', '4.6', '4.7', '4.3', '4.6', '4.2', '4.3', '4.3', '4.3', '4.3', '4.3', '4.2', '4.3', '4.2'], 'rule_e0ln': ['4.3', '4.3', '4.3', '4.2', '4.2', '4.7', '4.2', '4.2', '4.2', '4.7', '4.7', '4.6', '4.7', '4.3', '4.6', '4.2', '4.3', '4.3', '4.3', '4.3', '4.3', '4.2', '4.3', '4.2'], 'rule_gaih': ['4.3', '4.3', '4.3', '4.2', '4.2', '4.7', '4.2', '4.2', '4.2', '4.7', '4.7', '4.6', '4.7', '4.3', '4.6', '4.2', '4.3', '4.3', '4.3', '4.3', '4.3', '4.2', '4.3', '4.2'], 'rule_ob9u': ['4.3', '4.3', '4.3', '4.2', '4.2', '4.7', '4.2', '4.2', '4.2', '4.7', '4.7', '4.6', '4.7', '4.3', '4.6', '4.2', '4.3', '4.3', '4.3', '4.3', '4.3', '4.2', '4.3', '4.2'], 'rule_g6s4': ['4.3', '4.3', '4.3', '4.2', '4.2', '4.7', '4.2', '4.2', '4.2', '4.7', '4.7', '4.6', '4.7', '4.3', '4.6', '4.2', '4.3', '4.3', '4.3', '4.3', '4.3', '4.2', '4.3', '4.2'], 'rule_wezy': ['4.3', '4.3', '4.3', '4.2', '4.2', '4.7', '4.2', '4.2', '4.2', '4.7', '4.7', '4.6', '4.7', '4.3', '4.6', '4.2', '4.3', '4.3', '4.3', '4.3', '4.3', '4.2', '4.3', '4.2'], 'rule_hvlf': ['4.3', '4.3', '4.3', '4.2', '4.2', '4.7', '4.2', '4.2', '4.2', '4.7', '4.7', '4.6', '4.7', '4.3', '4.6', '4.2', '4.3', '4.3', '4.3', '4.3', '4.3', '4.2', '4.3', '4.2'], 'rule_5vrj': ['4.3', '4.3', '4.3', '4.2', '4.2', '4.7', '4.2', '4.2', '4.2', '4.7', '4.7', '4.6', '4.7', '4.3', '4.6', '4.2', '4.3', '4.3', '4.3', '4.3', '4.3', '4.2', '4.3', '4.2'], 'rule_uas7': ['https://rukminim2.flixcart.com/image/312/312/xif0q/mobile/0/8/4/-original-imagfhu75eupxyft.jpeg?q=70', 'https://rukminim2.flixcart.com/image/312/312/xif0q/mobile/a/i/v/-original-imagfhu6bdzhnmkz.jpeg?q=70', 'https://rukminim2.flixcart.com/image/312/312/xif0q/mobile/x/x/s/-original-imagfhu6dcpdnqkh.jpeg?q=70', 'https://rukminim2.flixcart.com/image/312/312/xif0q/mobile/7/p/9/-original-imaghgbyypzkzvud.jpeg?q=70', 'https://rukminim2.flixcart.com/image/312/312/xif0q/mobile/6/v/0/c51-mzb0dxkin-poco-original-imagzdpycgrcdc8z.jpeg?q=70', 'https://rukminim2.flixcart.com/image/312/312/ktketu80/mobile/6/n/d/iphone-13-mlpg3hn-a-apple-original-imag6vpyghayhhrh.jpeg?q=70', 'https://rukminim2.flixcart.com/image/312/312/xif0q/mobile/a/6/f/-original-imagnb6nvnqz7hqq.jpeg?q=70', 'https://rukminim2.flixcart.com/image/312/312/xif0q/mobile/b/y/g/-original-imagnfzybft7wzmp.jpeg?q=70', 'https://rukminim2.flixcart.com/image/312/312/xif0q/mobile/o/t/a/c51-mzb0e6din-poco-original-imagzdzzraqzsrzc.jpeg?q=70', 'https://rukminim2.flixcart.com/image/312/312/ktketu80/mobile/s/l/c/iphone-13-mlpf3hn-a-apple-original-imag6vzz5qvejz8z.jpeg?q=70', 'https://rukminim2.flixcart.com/image/312/312/l0igvww0/mobile/r/q/m/-original-imagca5ajerqpfjy.jpeg?q=70', 'https://rukminim2.flixcart.com/image/312/312/xif0q/mobile/h/h/d/-original-imags487gaqqhcea.jpeg?q=70', 'https://rukminim2.flixcart.com/image/312/312/ktketu80/mobile/8/z/w/iphone-13-mlph3hn-a-apple-original-imag6vzzhrxgazsg.jpeg?q=70', 'https://rukminim2.flixcart.com/image/312/312/xif0q/mobile/u/c/u/-original-imagnanh2yvpc4zx.jpeg?q=70', 'https://rukminim2.flixcart.com/image/312/312/xif0q/mobile/5/q/6/-original-imags487ftf3g2s7.jpeg?q=70', 'https://rukminim2.flixcart.com/image/312/312/xif0q/mobile/t/a/x/-original-imaghmtch6qfmfxg.jpeg?q=70', 'https://rukminim2.flixcart.com/image/312/312/xif0q/mobile/h/h/f/-original-imagnfqybfcdzeye.jpeg?q=70', 'https://rukminim2.flixcart.com/image/312/312/xif0q/mobile/s/v/q/-original-imagp279xqv69rjq.jpeg?q=70', 'https://rukminim2.flixcart.com/image/312/312/xif0q/mobile/p/z/x/-original-imagp279xdfvkzxh.jpeg?q=70', 'https://rukminim2.flixcart.com/image/312/312/xif0q/mobile/e/s/o/-original-imagp2794bmhdrhf.jpeg?q=70', 'https://rukminim2.flixcart.com/image/312/312/xif0q/mobile/a/o/v/-original-imagp27avqpgejaf.jpeg?q=70', 'https://rukminim2.flixcart.com/image/312/312/xif0q/mobile/w/d/o/-original-imaghgbyhy6banxv.jpeg?q=70', 'https://rukminim2.flixcart.com/image/312/312/xif0q/mobile/2/n/m/-original-imagna3rjqn8vqxb.jpeg?q=70', 'https://rukminim2.flixcart.com/image/312/312/xif0q/mobile/3/l/x/-original-imaghmtcmxwgypsk.jpeg?q=70']}\n"
     ]
    }
   ],
   "source": [
    "from autoscraper import AutoScraper\n",
    "\n",
    "url=\"https://www.flipkart.com/search?q=mobiles\"\n",
    "wanted_list=[\"SAMSUNG Galaxy F13 (Waterfall Blue, 64 GB)\",\"₹58,499\",\"4.3\",\"https://rukminim2.flixcart.com/image/312/312/xif0q/mobile/0/8/4/-original-imagfhu75eupxyft.jpeg?q=70\"]\n",
    "\n",
    "scraper=AutoScraper()\n",
    "\n",
    "result=scraper.build(url,wanted_list)\n",
    "data=scraper.get_result_similar(url,grouped=True)\n",
    "print(data)"
   ]
  },
  {
   "cell_type": "code",
   "execution_count": 2,
   "id": "63e1e03d",
   "metadata": {},
   "outputs": [],
   "source": [
    "scraper.save('flipkart_sea')"
   ]
  },
  {
   "cell_type": "code",
   "execution_count": 3,
   "id": "a9909d28",
   "metadata": {},
   "outputs": [
    {
     "name": "stdout",
     "output_type": "stream",
     "text": [
      "{'': ['APPLE iPhone 13 (Starlight, 128 GB)', 'https://rukminim2.flixcart.com/image/312/312/ktketu80/mobile/6/n/d/iphone-13-mlpg3hn-a-apple-original-imag6vpyghayhhrh.jpeg?q=70', 'APPLE iPhone 13 (Starlight, 128 GB)', '4.7', '4.7', '4.7', '4.7', '4.7', '4.7', '4.7', '4.7', '4.7', '4.7', '₹58,499', '₹58,499', '₹58,499', '₹58,499', 'APPLE iPhone 13 (Midnight, 128 GB)', 'https://rukminim2.flixcart.com/image/312/312/ktketu80/mobile/s/l/c/iphone-13-mlpf3hn-a-apple-original-imag6vzz5qvejz8z.jpeg?q=70', 'APPLE iPhone 13 (Midnight, 128 GB)', '4.7', '4.7', '4.7', '4.7', '4.7', '4.7', '4.7', '4.7', '4.7', '4.7', '₹58,499', '₹58,499', '₹58,499', '₹58,499', 'APPLE iPhone 13 (Green, 128 GB)', 'https://rukminim2.flixcart.com/image/312/312/l0igvww0/mobile/r/q/m/-original-imagca5ajerqpfjy.jpeg?q=70', 'APPLE iPhone 13 (Green, 128 GB)', '4.7', '4.7', '4.7', '4.7', '4.7', '4.7', '4.7', '4.7', '4.7', '4.7', '₹58,499', '₹58,499', '₹58,499', '₹58,499', 'APPLE iPhone 13 (Pink, 128 GB)', 'https://rukminim2.flixcart.com/image/312/312/ktketu80/mobile/8/z/w/iphone-13-mlph3hn-a-apple-original-imag6vzzhrxgazsg.jpeg?q=70', 'APPLE iPhone 13 (Pink, 128 GB)', '4.7', '4.7', '4.7', '4.7', '4.7', '4.7', '4.7', '4.7', '4.7', '4.7', '₹58,499', '₹58,499', '₹58,499', '₹58,499', 'APPLE iPhone 14 (Midnight, 128 GB)', 'https://rukminim2.flixcart.com/image/312/312/xif0q/mobile/9/e/e/-original-imaghx9q5rvcdghy.jpeg?q=70', 'APPLE iPhone 14 (Midnight, 128 GB)', '4.6', '4.6', '4.6', '4.6', '4.6', '4.6', '4.6', '4.6', '4.6', '4.6', '₹68,999', '₹68,999', '₹68,999', '₹68,999', 'APPLE iPhone 14 (Purple, 128 GB)', 'https://rukminim2.flixcart.com/image/312/312/xif0q/mobile/b/u/f/-original-imaghxa5hvapbfds.jpeg?q=70', 'APPLE iPhone 14 (Purple, 128 GB)', '4.6', '4.6', '4.6', '4.6', '4.6', '4.6', '4.6', '4.6', '4.6', '4.6', '₹68,999', '₹68,999', '₹68,999', '₹68,999', 'APPLE iPhone 13 (Blue, 128 GB)', 'https://rukminim2.flixcart.com/image/312/312/ktketu80/mobile/2/y/o/iphone-13-mlpk3hn-a-apple-original-imag6vpyur6hjngg.jpeg?q=70', 'APPLE iPhone 13 (Blue, 128 GB)', '4.7', '4.7', '4.7', '4.7', '4.7', '4.7', '4.7', '4.7', '4.7', '4.7', '₹58,499', '₹58,499', '₹58,499', '₹58,499', 'APPLE iPhone 14 (Starlight, 128 GB)', 'https://rukminim2.flixcart.com/image/312/312/xif0q/mobile/m/o/b/-original-imaghx9qkugtbfrn.jpeg?q=70', 'APPLE iPhone 14 (Starlight, 128 GB)', '4.6', '4.6', '4.6', '4.6', '4.6', '4.6', '4.6', '4.6', '4.6', '4.6', '₹68,999', '₹68,999', '₹68,999', '₹68,999', 'APPLE iPhone 14 Plus (Midnight, 128 GB)', 'https://rukminim2.flixcart.com/image/312/312/xif0q/mobile/a/b/0/-original-imaghx9qnhzxegu2.jpeg?q=70', 'APPLE iPhone 14 Plus (Midnight, 128 GB)', '4.7', '4.7', '4.7', '4.7', '4.7', '4.7', '4.7', '4.7', '4.7', '4.7', '₹72,999', '₹72,999', '₹72,999', '₹72,999', 'APPLE iPhone 14 Plus (Purple, 128 GB)', 'https://rukminim2.flixcart.com/image/312/312/xif0q/mobile/v/0/t/-original-imaghxa5rgcv5enm.jpeg?q=70', 'APPLE iPhone 14 Plus (Purple, 128 GB)', '4.7', '4.7', '4.7', '4.7', '4.7', '4.7', '4.7', '4.7', '4.7', '4.7', '₹72,999', '₹72,999', '₹72,999', '₹72,999', 'APPLE iPhone 14 Plus (Blue, 128 GB)', 'https://rukminim2.flixcart.com/image/312/312/xif0q/mobile/c/4/d/-original-imaghx9qygjjg8hz.jpeg?q=70', 'APPLE iPhone 14 Plus (Blue, 128 GB)', '4.7', '4.7', '4.7', '4.7', '4.7', '4.7', '4.7', '4.7', '4.7', '4.7', '₹72,999', '₹72,999', '₹72,999', '₹72,999', 'APPLE iPhone 14 Plus (Starlight, 128 GB)', 'https://rukminim2.flixcart.com/image/312/312/xif0q/mobile/l/v/8/-original-imaghx9qudmydgc4.jpeg?q=70', 'APPLE iPhone 14 Plus (Starlight, 128 GB)', '4.7', '4.7', '4.7', '4.7', '4.7', '4.7', '4.7', '4.7', '4.7', '4.7', '₹72,999', '₹72,999', '₹72,999', '₹72,999', 'APPLE iPhone 14 (Blue, 128 GB)', 'https://rukminim2.flixcart.com/image/312/312/xif0q/mobile/3/5/l/-original-imaghx9qmgqsk9s4.jpeg?q=70', 'APPLE iPhone 14 (Blue, 128 GB)', '4.6', '4.6', '4.6', '4.6', '4.6', '4.6', '4.6', '4.6', '4.6', '4.6', '₹68,999', '₹68,999', '₹68,999', '₹68,999', 'APPLE iPhone 11 (White, 128 GB)', 'https://rukminim2.flixcart.com/image/312/312/k2jbyq80pkrrdj/mobile-refurbished/k/y/d/iphone-11-256-u-mwm82hn-a-apple-0-original-imafkg25mhaztxns.jpeg?q=70', 'APPLE iPhone 11 (White, 128 GB)', '4.6', '4.6', '4.6', '4.6', '4.6', '4.6', '4.6', '4.6', '4.6', '4.6', '₹42,999', '₹42,999', '₹42,999', '₹42,999', 'APPLE iPhone 11 (Black, 128 GB)', 'https://rukminim2.flixcart.com/image/312/312/k2jbyq80pkrrdj/mobile-refurbished/x/j/s/iphone-11-128-d-mwm02hn-a-apple-0-original-imafkg242ugz8hwc.jpeg?q=70', 'APPLE iPhone 11 (Black, 128 GB)', '4.6', '4.6', '4.6', '4.6', '4.6', '4.6', '4.6', '4.6', '4.6', '4.6', '₹42,999', '₹42,999', '₹42,999', '₹42,999', 'APPLE iPhone 11 (White, 64 GB)', 'https://rukminim2.flixcart.com/image/312/312/k2jbyq80pkrrdj/mobile-refurbished/k/y/d/iphone-11-256-u-mwm82hn-a-apple-0-original-imafkg25mhaztxns.jpeg?q=70', 'APPLE iPhone 11 (White, 64 GB)', '4.6', '4.6', '4.6', '4.6', '4.6', '4.6', '4.6', '4.6', '4.6', '4.6', '₹38,999', '₹38,999', '₹38,999', '₹38,999', 'APPLE iPhone 11 (Black, 64 GB)', 'https://rukminim2.flixcart.com/image/312/312/k2jbyq80pkrrdj/mobile-refurbished/x/j/s/iphone-11-128-d-mwm02hn-a-apple-0-original-imafkg242ugz8hwc.jpeg?q=70', 'APPLE iPhone 11 (Black, 64 GB)', '4.6', '4.6', '4.6', '4.6', '4.6', '4.6', '4.6', '4.6', '4.6', '4.6', '₹38,999', '₹38,999', '₹38,999', '₹38,999', 'APPLE iPhone 13 (Pink, 256 GB)', 'https://rukminim2.flixcart.com/image/312/312/ktketu80/mobile/8/z/w/iphone-13-mlph3hn-a-apple-original-imag6vzzhrxgazsg.jpeg?q=70', 'APPLE iPhone 13 (Pink, 256 GB)', '4.7', '4.7', '4.7', '4.7', '4.7', '4.7', '4.7', '4.7', '4.7', '4.7', '₹68,499', '₹68,499', '₹68,499', '₹68,499', 'APPLE iPhone 14 (Yellow, 128 GB)', 'https://rukminim2.flixcart.com/image/312/312/xif0q/mobile/e/l/d/-original-imagnhusa2upmgeq.jpeg?q=70', 'APPLE iPhone 14 (Yellow, 128 GB)', '4.6', '4.6', '4.6', '4.6', '4.6', '4.6', '4.6', '4.6', '4.6', '4.6', '₹68,999', '₹68,999', '₹68,999', '₹68,999', 'APPLE iPhone 13 (Midnight, 256 GB)', 'https://rukminim2.flixcart.com/image/312/312/ktketu80/mobile/s/l/c/iphone-13-mlpf3hn-a-apple-original-imag6vzz5qvejz8z.jpeg?q=70', 'APPLE iPhone 13 (Midnight, 256 GB)', '4.7', '4.7', '4.7', '4.7', '4.7', '4.7', '4.7', '4.7', '4.7', '4.7', '₹68,499', '₹68,499', '₹68,499', '₹68,499', 'APPLE iPhone 14 (Purple, 256 GB)', 'https://rukminim2.flixcart.com/image/312/312/xif0q/mobile/b/u/f/-original-imaghxa5hvapbfds.jpeg?q=70', 'APPLE iPhone 14 (Purple, 256 GB)', '4.6', '4.6', '4.6', '4.6', '4.6', '4.6', '4.6', '4.6', '4.6', '4.6', '₹78,999', '₹78,999', '₹78,999', '₹78,999', 'APPLE iPhone 13 (Starlight, 256 GB)', 'https://rukminim2.flixcart.com/image/312/312/ktketu80/mobile/6/n/d/iphone-13-mlpg3hn-a-apple-original-imag6vpyghayhhrh.jpeg?q=70', 'APPLE iPhone 13 (Starlight, 256 GB)', '4.7', '4.7', '4.7', '4.7', '4.7', '4.7', '4.7', '4.7', '4.7', '4.7', '₹68,499', '₹68,499', '₹68,499', '₹68,499', 'APPLE iPhone 14 (Midnight, 256 GB)', 'https://rukminim2.flixcart.com/image/312/312/xif0q/mobile/9/e/e/-original-imaghx9q5rvcdghy.jpeg?q=70', 'APPLE iPhone 14 (Midnight, 256 GB)', '4.6', '4.6', '4.6', '4.6', '4.6', '4.6', '4.6', '4.6', '4.6', '4.6', '₹78,999', '₹78,999', '₹78,999', '₹78,999', 'APPLE iPhone SE 3rd Gen (Product (Red), 64 GB)', 'https://rukminim2.flixcart.com/image/312/312/l0igvww0/mobile/9/6/t/-original-imagca67gxuvkmrj.jpeg?q=70', 'APPLE iPhone SE 3rd Gen (Product (Red), 64 GB)', '4.3', '4.3', '4.3', '4.3', '4.3', '4.3', '4.3', '4.3', '4.3', '4.3', '₹49,900', '₹49,900', '₹49,900', '₹49,900', '4.3', '4.7', '4.6', '4.6', '4.7']}\n"
     ]
    }
   ],
   "source": [
    "scraper.load('flipkart_search')\n",
    "data=scraper.get_result_similar(\"https://www.flipkart.com/search?q=apple\",group_by_alias=True)\n",
    "print(data)"
   ]
  },
  {
   "cell_type": "code",
   "execution_count": 4,
   "id": "565d9463",
   "metadata": {},
   "outputs": [
    {
     "name": "stdout",
     "output_type": "stream",
     "text": [
      "413\n"
     ]
    }
   ],
   "source": [
    "print(len(list(data.values())[0]))"
   ]
  },
  {
   "cell_type": "code",
   "execution_count": null,
   "id": "d4ecccf2",
   "metadata": {},
   "outputs": [],
   "source": []
  }
 ],
 "metadata": {
  "kernelspec": {
   "display_name": "Python 3 (ipykernel)",
   "language": "python",
   "name": "python3"
  },
  "language_info": {
   "codemirror_mode": {
    "name": "ipython",
    "version": 3
   },
   "file_extension": ".py",
   "mimetype": "text/x-python",
   "name": "python",
   "nbconvert_exporter": "python",
   "pygments_lexer": "ipython3",
   "version": "3.9.13"
  }
 },
 "nbformat": 4,
 "nbformat_minor": 5
}
